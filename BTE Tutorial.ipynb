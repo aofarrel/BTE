{
 "cells": [
  {
   "cell_type": "code",
   "execution_count": 4,
   "id": "d6c1a853",
   "metadata": {},
   "outputs": [],
   "source": [
    "import mat\n",
    "import pandas as pd\n",
    "import numpy as np\n",
    "import seaborn as sns\n",
    "import ete3"
   ]
  },
  {
   "cell_type": "markdown",
   "id": "009e87d8",
   "metadata": {},
   "source": [
    "The matreePy API is a wrapper on the Mutation_Annotated_Tree namespace and select matUtils functions, including the Tree and Node classes. "
   ]
  },
  {
   "cell_type": "code",
   "execution_count": 5,
   "id": "9ac9ee02",
   "metadata": {},
   "outputs": [
    {
     "name": "stdout",
     "output_type": "stream",
     "text": [
      "CPU times: user 24 s, sys: 2.66 s, total: 26.6 s\n",
      "Wall time: 18.6 s\n"
     ]
    }
   ],
   "source": [
    "%%time\n",
    "#loading takes several seconds, like the command line.\n",
    "t = mat.MATree(\"public-latest.all.masked.pb.gz\")"
   ]
  },
  {
   "cell_type": "code",
   "execution_count": 3,
   "id": "75cffa9d",
   "metadata": {},
   "outputs": [
    {
     "data": {
      "text/plain": [
       "3370883"
      ]
     },
     "execution_count": 3,
     "metadata": {},
     "output_type": "execute_result"
    }
   ],
   "source": [
    "t.get_parsimony_score()"
   ]
  },
  {
   "cell_type": "markdown",
   "id": "0003cc07",
   "metadata": {},
   "source": [
    "As a comparison point for efficiency, let's use the popular python phylogenetics package ete3. ete3 only works with newick, not with mutation annotated trees directly."
   ]
  },
  {
   "cell_type": "code",
   "execution_count": 6,
   "id": "43bbe0e7",
   "metadata": {},
   "outputs": [],
   "source": [
    "nwk = t.get_newick_string()"
   ]
  },
  {
   "cell_type": "code",
   "execution_count": 11,
   "id": "9654dcab",
   "metadata": {},
   "outputs": [
    {
     "name": "stdout",
     "output_type": "stream",
     "text": [
      "CPU times: user 1min 11s, sys: 3.62 s, total: 1min 14s\n",
      "Wall time: 1min 16s\n"
     ]
    }
   ],
   "source": [
    "%%time\n",
    "etetree = ete3.Tree(nwk.decode(\"UTF-8\"),1)"
   ]
  },
  {
   "cell_type": "markdown",
   "id": "2c13980e",
   "metadata": {},
   "source": [
    "Ete3 takes six times longer to load *just* the newick tree sans mutations. The power of the MAT library is not to be underestimated!"
   ]
  },
  {
   "cell_type": "markdown",
   "id": "253f874a",
   "metadata": {},
   "source": [
    "The API can extract subtrees with requested attributes, much like matUtils extract, and save the results to a new protobuf file."
   ]
  },
  {
   "cell_type": "code",
   "execution_count": 3,
   "id": "43eb9a4c",
   "metadata": {},
   "outputs": [
    {
     "name": "stdout",
     "output_type": "stream",
     "text": [
      "Getting clade: BA.1\n",
      "Successfully found 485436 samples.\n",
      "Omicron Total Parsimony: 299269\n"
     ]
    },
    {
     "name": "stderr",
     "output_type": "stream",
     "text": [
      "Large sample input; building subtree by pruning all but 485436 samples.\n"
     ]
    }
   ],
   "source": [
    "%%time\n",
    "omicron = t.get_clade(\"BA.1\")\n",
    "print(\"Omicron Total Parsimony:\",omicron.get_parsimony_score())\n",
    "omicron.save_pb(\"omicron_only.pb\")"
   ]
  },
  {
   "cell_type": "markdown",
   "id": "c8f6faa0",
   "metadata": {},
   "source": [
    "The API can traverse the tree in breadth- or depth-first order and contains a python-readable MATNode class!"
   ]
  },
  {
   "cell_type": "code",
   "execution_count": 12,
   "id": "873a10ad",
   "metadata": {},
   "outputs": [
    {
     "name": "stdout",
     "output_type": "stream",
     "text": [
      "CPU times: user 414 ms, sys: 660 ms, total: 1.07 s\n",
      "Wall time: 1.34 s\n"
     ]
    },
    {
     "data": {
      "text/plain": [
       "4982004"
      ]
     },
     "execution_count": 12,
     "metadata": {},
     "output_type": "execute_result"
    }
   ],
   "source": [
    "%%time\n",
    "allnodes = t.depth_first_expansion()\n",
    "len(allnodes)"
   ]
  },
  {
   "cell_type": "code",
   "execution_count": 14,
   "id": "38e214d6",
   "metadata": {},
   "outputs": [
    {
     "name": "stdout",
     "output_type": "stream",
     "text": [
      "CPU times: user 3.11 s, sys: 648 ms, total: 3.76 s\n",
      "Wall time: 5.01 s\n"
     ]
    }
   ],
   "source": [
    "%%time\n",
    "#and how does this compare to ete3 traversal time?\n",
    "for node in etetree.traverse('postorder'):\n",
    "    pass"
   ]
  },
  {
   "cell_type": "markdown",
   "id": "9a3864ea",
   "metadata": {},
   "source": [
    "We can see already that despite tracking mutations assigned to each node, our wrapper is ~5x faster than the equivalent functions in ete3. A great sign for usability!"
   ]
  },
  {
   "cell_type": "code",
   "execution_count": 8,
   "id": "8a6d82b4",
   "metadata": {},
   "outputs": [
    {
     "name": "stdout",
     "output_type": "stream",
     "text": [
      "Help on MATNode object:\n",
      "\n",
      "class MATNode(builtins.object)\n",
      " |  A wrapper around the MAT node class. Has an identifier, mutations, parent, and child attributes.\n",
      " |  \n",
      " |  Methods defined here:\n",
      " |  \n",
      " |  __reduce__ = __reduce_cython__(...)\n",
      " |  \n",
      " |  __setstate__ = __setstate_cython__(...)\n",
      " |  \n",
      " |  get_annotations(...)\n",
      " |  \n",
      " |  get_children(...)\n",
      " |  \n",
      " |  get_id(...)\n",
      " |  \n",
      " |  get_mutations(...)\n",
      " |  \n",
      " |  get_parent(...)\n",
      " |  \n",
      " |  is_leaf(...)\n",
      " |  \n",
      " |  ----------------------------------------------------------------------\n",
      " |  Static methods defined here:\n",
      " |  \n",
      " |  __new__(*args, **kwargs) from builtins.type\n",
      " |      Create and return a new object.  See help(type) for accurate signature.\n",
      " |  \n",
      " |  ----------------------------------------------------------------------\n",
      " |  Data and other attributes defined here:\n",
      " |  \n",
      " |  __pyx_vtable__ = <capsule object NULL>\n",
      "\n"
     ]
    }
   ],
   "source": [
    "help(allnodes[250])"
   ]
  },
  {
   "cell_type": "markdown",
   "id": "59ad802b",
   "metadata": {},
   "source": [
    "The node class contains getter methods for each of the original C++ node class attributes, allowing for python-levle parsing and selection of nodes from a set of MATNode objects."
   ]
  },
  {
   "cell_type": "code",
   "execution_count": 15,
   "id": "d9d48087",
   "metadata": {},
   "outputs": [
    {
     "data": {
      "text/plain": [
       "4123823"
      ]
     },
     "execution_count": 15,
     "metadata": {},
     "output_type": "execute_result"
    }
   ],
   "source": [
    "leaves = [n for n in allnodes if n.is_leaf()]\n",
    "len(leaves)"
   ]
  },
  {
   "cell_type": "markdown",
   "id": "456d69df",
   "metadata": {},
   "source": [
    "Finally, the API can also support cython-only functions for particular analytical applications. Here is one example- a function which counts individual mutation types across all nodes and loads them into a Python dictionary!"
   ]
  },
  {
   "cell_type": "code",
   "execution_count": 16,
   "id": "2272daa1",
   "metadata": {},
   "outputs": [
    {
     "name": "stdout",
     "output_type": "stream",
     "text": [
      "CPU times: user 1.31 s, sys: 705 ms, total: 2.01 s\n",
      "Wall time: 2.18 s\n"
     ]
    },
    {
     "name": "stderr",
     "output_type": "stream",
     "text": [
      "/Users/jmcbr/opt/anaconda3/lib/python3.8/site-packages/seaborn/_decorators.py:36: FutureWarning: Pass the following variables as keyword args: x, y. From version 0.12, the only valid positional argument will be `data`, and passing other arguments without an explicit keyword will result in an error or misinterpretation.\n",
      "  warnings.warn(\n"
     ]
    },
    {
     "data": {
      "text/plain": [
       "<AxesSubplot:>"
      ]
     },
     "execution_count": 16,
     "metadata": {},
     "output_type": "execute_result"
    },
    {
     "data": {
      "image/png": "[encoded data removed]",
      "text/plain": [
       "<Figure size 432x288 with 1 Axes>"
      ]
     },
     "metadata": {
      "needs_background": "light"
     },
     "output_type": "display_data"
    }
   ],
   "source": [
    "%%time\n",
    "mcount = t.count_mutations()\n",
    "sns.barplot(list(mcount.keys()),list(mcount.values()))"
   ]
  },
  {
   "cell_type": "markdown",
   "id": "ede41fda",
   "metadata": {},
   "source": [
    "Altogether, this wrapper exposes basic and extremely useful functions of the excellent Mutation_Annotated_Tree library and matUtils to Python to allow for efficient and informed analysis.\n",
    "\n",
    "If you've ever found yourself trying to run an analysis on a MAT pb and been frustrated by the linear nature of the command line tools and the constant need to parse different text files, this wrapper could help you!\n",
    "\n",
    "I'm seeking feedback on any and all aspects of the wrapper and am collecting it in a google doc [here](https://docs.google.com/document/d/1UR82v2xJixnEIEHRh7jZawClOqmsufrPWELygq8lb_Y/edit?usp=sharing). Try it out!"
   ]
  }
 ],
 "metadata": {
  "kernelspec": {
   "display_name": "Python 3 (ipykernel)",
   "language": "python",
   "name": "python3"
  },
  "language_info": {
   "codemirror_mode": {
    "name": "ipython",
    "version": 3
   },
   "file_extension": ".py",
   "mimetype": "text/x-python",
   "name": "python",
   "nbconvert_exporter": "python",
   "pygments_lexer": "ipython3",
   "version": "3.8.8"
  }
 },
 "nbformat": 4,
 "nbformat_minor": 5
}
